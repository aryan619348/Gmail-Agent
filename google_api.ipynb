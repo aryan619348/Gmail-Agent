{
 "cells": [
  {
   "cell_type": "code",
   "execution_count": 1,
   "metadata": {},
   "outputs": [],
   "source": [
    "import datetime\n",
    "import os.path\n",
    "\n",
    "from google.auth.transport.requests import Request\n",
    "from google.oauth2.credentials import Credentials\n",
    "from google_auth_oauthlib.flow import InstalledAppFlow\n",
    "from googleapiclient.discovery import build\n",
    "from googleapiclient.errors import HttpError\n",
    "\n",
    "# If modifying these scopes, delete the file token.json.\n",
    "SCOPES = [\"https://www.googleapis.com/auth/calendar\"]"
   ]
  },
  {
   "cell_type": "markdown",
   "metadata": {},
   "source": [
    "## Python Google calendar quickstart"
   ]
  },
  {
   "cell_type": "code",
   "execution_count": 4,
   "metadata": {},
   "outputs": [
    {
     "name": "stdout",
     "output_type": "stream",
     "text": [
      "Please visit this URL to authorize this application: https://accounts.google.com/o/oauth2/auth?response_type=code&client_id=67229562181-fdj73daqo2rfpvvv6lfquf26s8dq926s.apps.googleusercontent.com&redirect_uri=http%3A%2F%2Flocalhost%3A64580%2F&scope=https%3A%2F%2Fwww.googleapis.com%2Fauth%2Fcalendar&state=1hazhAnY38ZVj9tplVwnd3ZLtoApY6&access_type=offline\n",
      "Getting the upcoming 10 events\n",
      "2024-01-03T19:30:00+05:30 Weekly Tech capability- AI\n",
      "2024-01-05T22:30:00+05:30 Marketing Updates\n",
      "2024-01-10T19:30:00+05:30 Weekly Tech capability- AI\n",
      "2024-01-12T22:30:00+05:30 Marketing Updates\n",
      "2024-01-17T19:30:00+05:30 Weekly Tech capability- AI\n",
      "2024-01-19T22:30:00+05:30 Marketing Updates\n",
      "2024-01-24T19:30:00+05:30 Weekly Tech capability- AI\n",
      "2024-01-26T22:30:00+05:30 Marketing Updates\n",
      "2024-01-31T19:30:00+05:30 Weekly Tech capability- AI\n",
      "2024-02-02T22:30:00+05:30 Marketing Updates\n"
     ]
    }
   ],
   "source": [
    "import datetime\n",
    "import os.path\n",
    "\n",
    "from google.auth.transport.requests import Request\n",
    "from google.oauth2.credentials import Credentials\n",
    "from google_auth_oauthlib.flow import InstalledAppFlow\n",
    "from googleapiclient.discovery import build\n",
    "from googleapiclient.errors import HttpError\n",
    "\n",
    "# If modifying these scopes, delete the file token.json.\n",
    "SCOPES = [\"https://www.googleapis.com/auth/calendar\"]\n",
    "\n",
    "\n",
    "def main():\n",
    "  \"\"\"Shows basic usage of the Google Calendar API.\n",
    "  Prints the start and name of the next 10 events on the user's calendar.\n",
    "  \"\"\"\n",
    "  creds = None\n",
    "  # The file token.json stores the user's access and refresh tokens, and is\n",
    "  # created automatically when the authorization flow completes for the first\n",
    "  # time.\n",
    "  if os.path.exists(\"token.json\"):\n",
    "    creds = Credentials.from_authorized_user_file(\"token.json\", SCOPES)\n",
    "  # If there are no (valid) credentials available, let the user log in.\n",
    "  if not creds or not creds.valid:\n",
    "    if creds and creds.expired and creds.refresh_token:\n",
    "      creds.refresh(Request())\n",
    "    else:\n",
    "      flow = InstalledAppFlow.from_client_secrets_file(\n",
    "          \"credentials.json\", SCOPES\n",
    "      )\n",
    "      creds = flow.run_local_server(port=0)\n",
    "    # Save the credentials for the next run\n",
    "    with open(\"token.json\", \"w\") as token:\n",
    "      token.write(creds.to_json())\n",
    "\n",
    "  try:\n",
    "    service = build(\"calendar\", \"v3\", credentials=creds)\n",
    "\n",
    "    # Call the Calendar API\n",
    "    now = datetime.datetime.utcnow().isoformat() + \"Z\"  # 'Z' indicates UTC time\n",
    "    print(\"Getting the upcoming 10 events\")\n",
    "    events_result = (\n",
    "        service.events()\n",
    "        .list(\n",
    "            calendarId=\"primary\",\n",
    "            timeMin=now,\n",
    "            maxResults=10,\n",
    "            singleEvents=True,\n",
    "            orderBy=\"startTime\",\n",
    "        )\n",
    "        .execute()\n",
    "    )\n",
    "    events = events_result.get(\"items\", [])\n",
    "\n",
    "    if not events:\n",
    "      print(\"No upcoming events found.\")\n",
    "      return\n",
    "\n",
    "    # Prints the start and name of the next 10 events\n",
    "    for event in events:\n",
    "      start = event[\"start\"].get(\"dateTime\", event[\"start\"].get(\"date\"))\n",
    "      print(start, event[\"summary\"])\n",
    "\n",
    "  except HttpError as error:\n",
    "    print(f\"An error occurred: {error}\")\n",
    "\n",
    "\n",
    "if __name__ == \"__main__\":\n",
    "  main()"
   ]
  },
  {
   "cell_type": "markdown",
   "metadata": {},
   "source": [
    "### Lets see how to create a new meeting"
   ]
  },
  {
   "cell_type": "code",
   "execution_count": 9,
   "metadata": {},
   "outputs": [],
   "source": [
    "creds = None\n",
    "# The file token.json stores the user's access and refresh tokens, and is\n",
    "# created automatically when the authorization flow completes for the first\n",
    "# time.\n",
    "if os.path.exists(\"token.json\"):\n",
    "    creds = Credentials.from_authorized_user_file(\"token.json\", SCOPES)\n",
    "    # If there are no (valid) credentials available, let the user log in.\n",
    "if not creds or not creds.valid:\n",
    "    if creds and creds.expired and creds.refresh_token:\n",
    "        creds.refresh(Request())\n",
    "    else:\n",
    "        flow = InstalledAppFlow.from_client_secrets_file(\n",
    "            \"credentials.json\", SCOPES\n",
    "        )\n",
    "        creds = flow.run_local_server(port=0)\n",
    "    # Save the credentials for the next run\n",
    "    with open(\"token.json\", \"w\") as token:\n",
    "        token.write(creds.to_json())"
   ]
  },
  {
   "cell_type": "code",
   "execution_count": 48,
   "metadata": {},
   "outputs": [],
   "source": [
    "def create_event(service, summary, location, description, start_time, end_time, attendees=None, reminders=None):\n",
    "    event = {\n",
    "        'summary': summary,\n",
    "        'location': location,\n",
    "        'description': description,\n",
    "        'start': {\n",
    "            'dateTime': start_time,\n",
    "            'timeZone': 'UTC',  # Adjust timezone as needed\n",
    "        },\n",
    "        'end': {\n",
    "            'dateTime': end_time,\n",
    "            'timeZone': 'UTC',\n",
    "        },\n",
    "        'attendees': attendees,\n",
    "        'reminders': reminders,\n",
    "    }\n",
    "\n",
    "    try:\n",
    "        created_event = service.events().insert(\n",
    "            calendarId='primary', body=event).execute()\n",
    "        print(f'Event created: {created_event.get(\"htmlLink\")}')\n",
    "    except HttpError as e:\n",
    "        print(f'Error creating event: {e}')"
   ]
  },
  {
   "cell_type": "code",
   "execution_count": 49,
   "metadata": {},
   "outputs": [
    {
     "name": "stdout",
     "output_type": "stream",
     "text": [
      "Event created: https://www.google.com/calendar/event?eid=Ym52b25uODU1amozaWlka2xrYzVzbW00MGMgYXJ5YW5zYW50b3NocGlsbGFpQG0\n"
     ]
    }
   ],
   "source": [
    "summary = 'Google I/O 2015'\n",
    "location = '800 Howard St., San Francisco, CA 94103'\n",
    "description = 'A chance to hear more about Google\\'s developer products.'\n",
    "start_time = '2023-12-30T16:30:00+05:30'\n",
    "end_time = '2023-12-30T18:30:00+05:30'\n",
    "service = build('calendar', 'v3', credentials=creds)\n",
    "create_event(service, summary, location, description, start_time, end_time, attendees, reminders)"
   ]
  },
  {
   "cell_type": "code",
   "execution_count": 13,
   "metadata": {},
   "outputs": [],
   "source": [
    "def find_event_by_summary(service, summary):\n",
    "    events_result = service.events().list(\n",
    "        calendarId='primary', q=summary).execute()\n",
    "    events = events_result.get('items', [])\n",
    "\n",
    "    if not events:\n",
    "        print(f'No events found with summary \"{summary}\"')\n",
    "        return None\n",
    "\n",
    "    for event in events:\n",
    "        print(f'Summary: {event[\"summary\"]}')\n",
    "        print(f'Start Time: {event[\"start\"].get(\"dateTime\", event[\"start\"].get(\"date\"))}')\n",
    "        print(f'End Time: {event[\"end\"].get(\"dateTime\", event[\"end\"].get(\"date\"))}')\n",
    "        print(f'Location: {event.get(\"location\", \"N/A\")}')\n",
    "        print('---')\n",
    "\n",
    "    return events"
   ]
  },
  {
   "cell_type": "code",
   "execution_count": 14,
   "metadata": {},
   "outputs": [
    {
     "name": "stdout",
     "output_type": "stream",
     "text": [
      "Summary: Google I/O 2015\n",
      "Start Time: 2023-12-30T16:30:00+05:30\n",
      "End Time: 2023-12-30T18:30:00+05:30\n",
      "Location: 800 Howard St., San Francisco, CA 94103\n",
      "---\n"
     ]
    },
    {
     "data": {
      "text/plain": [
       "[{'kind': 'calendar#event',\n",
       "  'etag': '\"3407777310212000\"',\n",
       "  'id': '51o6u74dpfmlc8k39ch39v2k2c',\n",
       "  'status': 'confirmed',\n",
       "  'htmlLink': 'https://www.google.com/calendar/event?eid=NTFvNnU3NGRwZm1sYzhrMzljaDM5djJrMmMgYXJ5YW5zYW50b3NocGlsbGFpQG0',\n",
       "  'created': '2023-12-29T22:24:15.000Z',\n",
       "  'updated': '2023-12-29T22:24:15.106Z',\n",
       "  'summary': 'Google I/O 2015',\n",
       "  'description': \"A chance to hear more about Google's developer products.\",\n",
       "  'location': '800 Howard St., San Francisco, CA 94103',\n",
       "  'creator': {'email': 'aryansantoshpillai@gmail.com', 'self': True},\n",
       "  'organizer': {'email': 'aryansantoshpillai@gmail.com', 'self': True},\n",
       "  'start': {'dateTime': '2023-12-30T16:30:00+05:30', 'timeZone': 'UTC'},\n",
       "  'end': {'dateTime': '2023-12-30T18:30:00+05:30', 'timeZone': 'UTC'},\n",
       "  'iCalUID': '51o6u74dpfmlc8k39ch39v2k2c@google.com',\n",
       "  'sequence': 0,\n",
       "  'attendees': [{'email': 'sbrin@example.com',\n",
       "    'responseStatus': 'needsAction'},\n",
       "   {'email': 'lpage@example.com', 'responseStatus': 'needsAction'}],\n",
       "  'reminders': {'useDefault': False,\n",
       "   'overrides': [{'method': 'popup', 'minutes': 10},\n",
       "    {'method': 'email', 'minutes': 1440}]},\n",
       "  'eventType': 'default'}]"
      ]
     },
     "execution_count": 14,
     "metadata": {},
     "output_type": "execute_result"
    }
   ],
   "source": [
    "summary_to_find = 'Google I/O 2015'\n",
    "found_events = find_event_by_summary(service, summary_to_find)\n",
    "found_events"
   ]
  },
  {
   "cell_type": "code",
   "execution_count": 28,
   "metadata": {},
   "outputs": [],
   "source": [
    "from datetime import datetime, timedelta\n",
    "\n",
    "def get_events_on_date(service, target_date):\n",
    "    # Set the start and end time for the specified date\n",
    "    start_time = target_date.isoformat() + 'T00:00:00Z'\n",
    "    end_time = (target_date + timedelta(days=1)).isoformat() + 'T00:00:00Z'\n",
    "\n",
    "    # Query events for the specified date\n",
    "    events_result = service.events().list(\n",
    "        calendarId='primary', timeMin=start_time, timeMax=end_time).execute()\n",
    "    events = events_result.get('items', [])\n",
    "\n",
    "    return events\n"
   ]
  },
  {
   "cell_type": "code",
   "execution_count": 29,
   "metadata": {},
   "outputs": [
    {
     "data": {
      "text/plain": [
       "[{'kind': 'calendar#event',\n",
       "  'etag': '\"3407779393380000\"',\n",
       "  'id': 'dp24bsll31ur3mjq38ks1pphck',\n",
       "  'status': 'confirmed',\n",
       "  'htmlLink': 'https://www.google.com/calendar/event?eid=ZHAyNGJzbGwzMXVyM21qcTM4a3MxcHBoY2sgYXJ5YW5zYW50b3NocGlsbGFpQG0',\n",
       "  'created': '2023-12-29T22:41:36.000Z',\n",
       "  'updated': '2023-12-29T22:41:36.690Z',\n",
       "  'summary': 'Google I/O 2015',\n",
       "  'description': \"A chance to hear more about Google's developer products.\",\n",
       "  'location': '800 Howard St., San Francisco, CA 94103',\n",
       "  'creator': {'email': 'aryansantoshpillai@gmail.com', 'self': True},\n",
       "  'organizer': {'email': 'aryansantoshpillai@gmail.com', 'self': True},\n",
       "  'start': {'dateTime': '2023-12-30T16:30:00+05:30', 'timeZone': 'UTC'},\n",
       "  'end': {'dateTime': '2023-12-30T18:30:00+05:30', 'timeZone': 'UTC'},\n",
       "  'iCalUID': 'dp24bsll31ur3mjq38ks1pphck@google.com',\n",
       "  'sequence': 0,\n",
       "  'attendees': [{'email': 'sbrin@example.com',\n",
       "    'responseStatus': 'needsAction'},\n",
       "   {'email': 'lpage@example.com', 'responseStatus': 'needsAction'}],\n",
       "  'reminders': {'useDefault': False,\n",
       "   'overrides': [{'method': 'email', 'minutes': 1440},\n",
       "    {'method': 'popup', 'minutes': 10}]},\n",
       "  'eventType': 'default'}]"
      ]
     },
     "execution_count": 29,
     "metadata": {},
     "output_type": "execute_result"
    }
   ],
   "source": [
    "target_date = datetime(2023, 12, 30).date()\n",
    "events=get_events_on_date(service, target_date)\n",
    "events"
   ]
  },
  {
   "cell_type": "code",
   "execution_count": 31,
   "metadata": {},
   "outputs": [
    {
     "data": {
      "text/plain": [
       "datetime.date(2023, 12, 30)"
      ]
     },
     "execution_count": 31,
     "metadata": {},
     "output_type": "execute_result"
    }
   ],
   "source": [
    "def get_todays_date():\n",
    "    today_date = datetime.now().date()\n",
    "    return today_date\n",
    "\n",
    "# Example usage:\n",
    "today = get_todays_date()\n",
    "today"
   ]
  },
  {
   "cell_type": "code",
   "execution_count": 33,
   "metadata": {},
   "outputs": [
    {
     "data": {
      "text/plain": [
       "datetime.date(2023, 12, 30)"
      ]
     },
     "execution_count": 33,
     "metadata": {},
     "output_type": "execute_result"
    }
   ],
   "source": [
    "target_date = datetime(2023, 12, 30).date()\n",
    "target_date"
   ]
  },
  {
   "cell_type": "code",
   "execution_count": 43,
   "metadata": {},
   "outputs": [],
   "source": [
    "from langchain.agents import tool\n",
    "from langchain.pydantic_v1 import BaseModel, Field\n",
    "import datetime\n",
    "\n",
    "class datein(BaseModel):\n",
    "    query: datetime.date = Field(description=\"should be a date in datetime.date\")\n",
    "\n",
    "\n",
    "@tool(\"get_events_on_date\", args_schema=datein, return_direct=True)\n",
    "def get_events_on_date(target_date: datetime.date) ->:\n",
    "    \"\"\"Used to find events on the calendar for a specific date input is the date\"\"\"\n",
    "    return target_date"
   ]
  },
  {
   "cell_type": "code",
   "execution_count": 44,
   "metadata": {},
   "outputs": [
    {
     "name": "stdout",
     "output_type": "stream",
     "text": [
      "get_events_on_date\n",
      "get_events_on_date(target_date: datetime.date) -> list - Used to find events on the calendar for a specific date input is the date\n",
      "{'query': {'title': 'Query', 'description': 'should be a date in datetime.date', 'type': 'string', 'format': 'date'}}\n",
      "True\n"
     ]
    }
   ],
   "source": [
    "print(get_events_on_date.name)\n",
    "print(get_events_on_date.description)\n",
    "print(get_events_on_date.args)\n",
    "print(get_events_on_date.return_direct)"
   ]
  },
  {
   "cell_type": "code",
   "execution_count": 45,
   "metadata": {},
   "outputs": [],
   "source": [
    "class EventInput(BaseModel):\n",
    "    summary: str = Field(description=\"Event summary\")\n",
    "    location: str = Field(description=\"Event location\")\n",
    "    description: str = Field(description=\"Event description\")\n",
    "    start_time: str = Field(description=\"Start time for the event\")\n",
    "    end_time: str = Field(description=\"End time for the event\")\n",
    "    attendees: list = Field(default=None, description=\"List of attendees\", title=\"Attendees\")\n",
    "    reminders: dict = Field(default=None, description=\"Event reminders\", title=\"Reminders\")\n",
    "\n",
    "@tool(\"create-event-tool\", args_schema=EventInput, return_direct=True)\n",
    "def create_event(summary: str, location: str, description: str, start_time: str, end_time: str, attendees=None, reminders=None) -> str:\n",
    "    \"\"\"Create a new event.\"\"\"\n",
    "    # Your implementation here\n",
    "    return f\"Event created: {summary}\""
   ]
  },
  {
   "cell_type": "code",
   "execution_count": 47,
   "metadata": {},
   "outputs": [
    {
     "name": "stdout",
     "output_type": "stream",
     "text": [
      "create-event-tool\n",
      "create-event-tool(summary: str, location: str, description: str, start_time: str, end_time: str, attendees=None, reminders=None) -> str - Create a new event.\n",
      "{'summary': {'title': 'Summary', 'description': 'Event summary', 'type': 'string'}, 'location': {'title': 'Location', 'description': 'Event location', 'type': 'string'}, 'description': {'title': 'Description', 'description': 'Event description', 'type': 'string'}, 'start_time': {'title': 'Start Time', 'description': 'Start time for the event', 'type': 'string'}, 'end_time': {'title': 'End Time', 'description': 'End time for the event', 'type': 'string'}, 'attendees': {'title': 'Attendees', 'description': 'List of attendees', 'type': 'array', 'items': {}}, 'reminders': {'title': 'Reminders', 'description': 'Event reminders', 'type': 'object'}}\n",
      "True\n"
     ]
    }
   ],
   "source": [
    "print(create_event.name)\n",
    "print(create_event.description)\n",
    "print(create_event.args)\n",
    "print(create_event.return_direct)"
   ]
  },
  {
   "cell_type": "code",
   "execution_count": 54,
   "metadata": {},
   "outputs": [
    {
     "name": "stdout",
     "output_type": "stream",
     "text": [
      "Event created: None, None, None, None, None, None, None\n"
     ]
    }
   ],
   "source": [
    "def create_event(summary, location, description, start_time, end_time, attendees=None, reminders=None):\n",
    "    # Your implementation here\n",
    "    print(f\"Event created: {summary}, {location}, {description}, {start_time}, {end_time}, {attendees}, {reminders}\")\n",
    "\n",
    "def create_string(input_string):\n",
    "    # Split the input string into individual fields\n",
    "    fields = [field.strip() for field in input_string.split(',')]\n",
    "\n",
    "    # Call the function with the created variables\n",
    "    create_event(**{field: None for field in fields})\n",
    "\n",
    "# Example usage:\n",
    "input_string = \"summary, location, description, start_time, end_time\"\n",
    "create_string(input_string)\n"
   ]
  },
  {
   "cell_type": "code",
   "execution_count": null,
   "metadata": {},
   "outputs": [],
   "source": []
  }
 ],
 "metadata": {
  "kernelspec": {
   "display_name": "mylangchain",
   "language": "python",
   "name": "python3"
  },
  "language_info": {
   "codemirror_mode": {
    "name": "ipython",
    "version": 3
   },
   "file_extension": ".py",
   "mimetype": "text/x-python",
   "name": "python",
   "nbconvert_exporter": "python",
   "pygments_lexer": "ipython3",
   "version": "3.10.13"
  }
 },
 "nbformat": 4,
 "nbformat_minor": 2
}
